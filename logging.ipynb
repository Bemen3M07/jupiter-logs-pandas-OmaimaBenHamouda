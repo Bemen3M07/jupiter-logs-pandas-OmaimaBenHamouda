{
 "cells": [
  {
   "cell_type": "code",
   "execution_count": 3,
   "id": "87f0b335-f3eb-4b90-ba38-41ee12e742b5",
   "metadata": {},
   "outputs": [],
   "source": [
    "import logging\n",
    "logger = logging.getLogger(__name__)\n",
    "logging.basicConfig(filename='loggingFile.log',level=logging.INFO,format='%(asctime)s - %(levelname)s - %(message)s')\n",
    "logger.debug('This message should go to the log file')\n",
    "logger.info('So should this')\n",
    "logger.warning('And this, too')\n",
    "logger.error('And non-ASCII stuff, too, like Øresund and Malmö')\n",
    "logger.critical('critical')"
   ]
  },
  {
   "cell_type": "code",
   "execution_count": 3,
   "id": "75a0cc99-8bac-490f-ba1a-d4c32fbf65bd",
   "metadata": {},
   "outputs": [],
   "source": []
  },
  {
   "cell_type": "code",
   "execution_count": null,
   "id": "69a32f43-03c1-4fd9-bc76-60605c112d02",
   "metadata": {},
   "outputs": [],
   "source": []
  },
  {
   "cell_type": "code",
   "execution_count": null,
   "id": "ada2cc8a-8683-48a1-8797-c0663bced896",
   "metadata": {},
   "outputs": [],
   "source": []
  },
  {
   "cell_type": "code",
   "execution_count": null,
   "id": "993ffece-f0db-477a-b127-0e940d51448a",
   "metadata": {},
   "outputs": [],
   "source": [
    "from datetime import datetime\n",
    "import time\n",
    "while True:\n",
    "    print(datetime.now().strftime('%Y-%m-%d %H:%M:%S'))\n",
    "    time.sleep(1)\n",
    "\n",
    "    "
   ]
  },
  {
   "cell_type": "code",
   "execution_count": null,
   "id": "17bc3db5-3b1f-4090-9184-ac75eb74860a",
   "metadata": {},
   "outputs": [],
   "source": []
  }
 ],
 "metadata": {
  "kernelspec": {
   "display_name": "Python 3 (ipykernel)",
   "language": "python",
   "name": "python3"
  },
  "language_info": {
   "codemirror_mode": {
    "name": "ipython",
    "version": 3
   },
   "file_extension": ".py",
   "mimetype": "text/x-python",
   "name": "python",
   "nbconvert_exporter": "python",
   "pygments_lexer": "ipython3",
   "version": "3.12.1"
  }
 },
 "nbformat": 4,
 "nbformat_minor": 5
}
